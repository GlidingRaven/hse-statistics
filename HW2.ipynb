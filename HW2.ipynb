{
 "cells": [
  {
   "cell_type": "code",
   "execution_count": 1,
   "id": "23145773",
   "metadata": {},
   "outputs": [],
   "source": [
    "import numpy as np\n",
    "import pandas as pd\n",
    "import matplotlib.pyplot as plt"
   ]
  },
  {
   "cell_type": "code",
   "execution_count": 2,
   "id": "0c486351",
   "metadata": {},
   "outputs": [
    {
     "data": {
      "text/plain": [
       "(500, 2)"
      ]
     },
     "execution_count": 2,
     "metadata": {},
     "output_type": "execute_result"
    }
   ],
   "source": [
    "# BMI (Индекс массы тела) Dataset from https://www.kaggle.com/datasets/yasserh/bmidataset\n",
    "\n",
    "# take only Height \n",
    "df = pd.read_csv('bmi.csv')[['Gender','Height']]\n",
    "df.shape"
   ]
  },
  {
   "cell_type": "code",
   "execution_count": 3,
   "id": "bf06e619",
   "metadata": {},
   "outputs": [
    {
     "name": "stdout",
     "output_type": "stream",
     "text": [
      "60 unuque values from 140 to 199 cm\n"
     ]
    }
   ],
   "source": [
    "unique_height = sorted(df['Height'].unique())\n",
    "print(len(unique_height), 'unuque values from', min(unique_height), 'to', max(unique_height), 'cm')"
   ]
  },
  {
   "cell_type": "code",
   "execution_count": 4,
   "id": "6d7af804",
   "metadata": {},
   "outputs": [
    {
     "data": {
      "text/html": [
       "<div>\n",
       "<style scoped>\n",
       "    .dataframe tbody tr th:only-of-type {\n",
       "        vertical-align: middle;\n",
       "    }\n",
       "\n",
       "    .dataframe tbody tr th {\n",
       "        vertical-align: top;\n",
       "    }\n",
       "\n",
       "    .dataframe thead th {\n",
       "        text-align: right;\n",
       "    }\n",
       "</style>\n",
       "<table border=\"1\" class=\"dataframe\">\n",
       "  <thead>\n",
       "    <tr style=\"text-align: right;\">\n",
       "      <th></th>\n",
       "      <th>Gender</th>\n",
       "      <th>Height</th>\n",
       "    </tr>\n",
       "  </thead>\n",
       "  <tbody>\n",
       "    <tr>\n",
       "      <th>0</th>\n",
       "      <td>Male</td>\n",
       "      <td>174</td>\n",
       "    </tr>\n",
       "    <tr>\n",
       "      <th>1</th>\n",
       "      <td>Male</td>\n",
       "      <td>189</td>\n",
       "    </tr>\n",
       "    <tr>\n",
       "      <th>2</th>\n",
       "      <td>Female</td>\n",
       "      <td>185</td>\n",
       "    </tr>\n",
       "  </tbody>\n",
       "</table>\n",
       "</div>"
      ],
      "text/plain": [
       "   Gender  Height\n",
       "0    Male     174\n",
       "1    Male     189\n",
       "2  Female     185"
      ]
     },
     "execution_count": 4,
     "metadata": {},
     "output_type": "execute_result"
    }
   ],
   "source": [
    "df.head(3)"
   ]
  },
  {
   "cell_type": "markdown",
   "id": "69342ceb",
   "metadata": {},
   "source": [
    "### "
   ]
  },
  {
   "cell_type": "code",
   "execution_count": 7,
   "id": "28e5d780",
   "metadata": {},
   "outputs": [
    {
     "data": {
      "text/plain": [
       "(140, 199, 169.944)"
      ]
     },
     "execution_count": 7,
     "metadata": {},
     "output_type": "execute_result"
    }
   ],
   "source": [
    "min_value = df['Height'].min()\n",
    "max_value = df['Height'].max()\n",
    "Ex = df['Height'].mean()\n",
    "min_value, max_value, Ex"
   ]
  },
  {
   "cell_type": "code",
   "execution_count": 12,
   "id": "3bb266da",
   "metadata": {},
   "outputs": [
    {
     "name": "stdout",
     "output_type": "stream",
     "text": [
      "140 1.0 < 1.2 True\n",
      "141 0.984 < 1.2 True\n",
      "142 0.968 < 1.2 True\n",
      "143 0.95 < 1.2 True\n",
      "144 0.944 < 1.2 True\n",
      "145 0.934 < 1.2 True\n",
      "146 0.916 < 1.2 True\n",
      "147 0.898 < 1.2 True\n",
      "148 0.884 < 1.1 True\n",
      "149 0.874 < 1.1 True\n",
      "150 0.864 < 1.1 True\n",
      "151 0.842 < 1.1 True\n",
      "152 0.826 < 1.1 True\n",
      "153 0.81 < 1.1 True\n",
      "154 0.79 < 1.1 True\n",
      "155 0.77 < 1.1 True\n",
      "156 0.758 < 1.1 True\n",
      "157 0.746 < 1.1 True\n",
      "158 0.726 < 1.1 True\n",
      "159 0.716 < 1.1 True\n",
      "160 0.698 < 1.1 True\n",
      "161 0.684 < 1.1 True\n",
      "162 0.666 < 1.0 True\n",
      "163 0.648 < 1.0 True\n",
      "164 0.632 < 1.0 True\n",
      "165 0.614 < 1.0 True\n",
      "166 0.594 < 1.0 True\n",
      "167 0.576 < 1.0 True\n",
      "168 0.558 < 1.0 True\n",
      "169 0.532 < 1.0 True\n",
      "170 0.512 < 1.0 True\n",
      "171 0.5 < 1.0 True\n",
      "172 0.484 < 1.0 True\n",
      "173 0.46 < 1.0 True\n",
      "174 0.452 < 1.0 True\n",
      "175 0.436 < 1.0 True\n",
      "176 0.428 < 1.0 True\n",
      "177 0.414 < 1.0 True\n",
      "178 0.396 < 1.0 True\n",
      "179 0.37 < 0.9 True\n",
      "180 0.342 < 0.9 True\n",
      "181 0.326 < 0.9 True\n",
      "182 0.304 < 0.9 True\n",
      "183 0.28 < 0.9 True\n",
      "184 0.258 < 0.9 True\n",
      "185 0.234 < 0.9 True\n",
      "186 0.212 < 0.9 True\n",
      "187 0.194 < 0.9 True\n",
      "188 0.166 < 0.9 True\n",
      "189 0.136 < 0.9 True\n",
      "190 0.126 < 0.9 True\n",
      "191 0.108 < 0.9 True\n",
      "192 0.094 < 0.9 True\n",
      "193 0.082 < 0.9 True\n",
      "194 0.072 < 0.9 True\n",
      "195 0.062 < 0.9 True\n",
      "196 0.042 < 0.9 True\n",
      "197 0.03 < 0.9 True\n",
      "198 0.016 < 0.9 True\n"
     ]
    }
   ],
   "source": [
    "for t in range(min_value, max_value):\n",
    "    p = df[df['Height'] >= t].shape[0] / df.shape[0]\n",
    "    eq = p < (Ex / t)\n",
    "    print(t, p, '<', round(Ex / t, 1) ,eq)"
   ]
  },
  {
   "cell_type": "code",
   "execution_count": null,
   "id": "9ffd3388",
   "metadata": {},
   "outputs": [],
   "source": []
  }
 ],
 "metadata": {
  "kernelspec": {
   "display_name": "Python 3 (ipykernel)",
   "language": "python",
   "name": "python3"
  },
  "language_info": {
   "codemirror_mode": {
    "name": "ipython",
    "version": 3
   },
   "file_extension": ".py",
   "mimetype": "text/x-python",
   "name": "python",
   "nbconvert_exporter": "python",
   "pygments_lexer": "ipython3",
   "version": "3.10.9"
  }
 },
 "nbformat": 4,
 "nbformat_minor": 5
}
